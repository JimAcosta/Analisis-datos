{
 "cells": [
  {
   "cell_type": "code",
   "execution_count": null,
   "id": "6bd2094c",
   "metadata": {},
   "outputs": [],
   "source": [
    "\n",
    "#Vista Inicial\n",
    "import pandas as pd\n",
    "\n",
    "df = pd.read_csv(\"../data/players_data-2024_2025.csv\")\n",
    "\n",
    "df.head()\n"
   ]
  },
  {
   "cell_type": "code",
   "execution_count": null,
   "id": "ff4636e5",
   "metadata": {},
   "outputs": [],
   "source": [
    "#Cantidad de filas y columnas\n",
    "import pandas as pd\n",
    "\n",
    "df = pd.read_csv(\"../data/players_data-2024_2025.csv\")\n",
    "\n",
    "print(df.shape)\n",
    "\n"
   ]
  },
  {
   "cell_type": "code",
   "execution_count": null,
   "id": "33a1b85d",
   "metadata": {},
   "outputs": [],
   "source": [
    "#Listado de Columnas\n",
    "import pandas as pd\n",
    "df = pd.read_csv(\"../data/players_data-2024_2025.csv\")\n",
    "\n",
    "print(list(df.columns))\n"
   ]
  },
  {
   "cell_type": "code",
   "execution_count": null,
   "id": "0d2ca2a5",
   "metadata": {},
   "outputs": [],
   "source": [
    "\n",
    "#Tipos de datos en columnas\n",
    "import pandas as pd\n",
    "\n",
    "df = pd.read_csv(\"../data/players_data-2024_2025.csv\")\n",
    "\n",
    "print(df.info())"
   ]
  },
  {
   "cell_type": "code",
   "execution_count": null,
   "id": "f0a1c41d",
   "metadata": {},
   "outputs": [],
   "source": [
    "\n",
    "#Valores Nulos en Columnas\n",
    "import pandas as pd\n",
    "\n",
    "df = pd.read_csv(\"../data/players_data-2024_2025.csv\")\n",
    "\n",
    "print(df.isnull().sum()[df.isnull().sum() > 0])"
   ]
  },
  {
   "cell_type": "code",
   "execution_count": null,
   "id": "845a54c5",
   "metadata": {},
   "outputs": [
    {
     "name": "stdout",
     "output_type": "stream",
     "text": [
      "Pos\n",
      "DF       852\n",
      "MF       588\n",
      "FW       362\n",
      "FW,MF    330\n",
      "MF,FW    228\n",
      "GK       206\n",
      "DF,MF    113\n",
      "MF,DF     76\n",
      "DF,FW     49\n",
      "FW,DF     21\n",
      "Name: count, dtype: int64\n"
     ]
    }
   ],
   "source": [
    "#Ver posiciones\n",
    "print(df['Pos'].value_counts())"
   ]
  },
  {
   "cell_type": "code",
   "execution_count": 24,
   "id": "4642fe3d",
   "metadata": {},
   "outputs": [
    {
     "name": "stdout",
     "output_type": "stream",
     "text": [
      "112\n"
     ]
    }
   ],
   "source": [
    "#Ver Nacionalidades \n",
    "\n",
    "print(df['Nation'].nunique())"
   ]
  },
  {
   "cell_type": "code",
   "execution_count": null,
   "id": "4f26663c",
   "metadata": {},
   "outputs": [],
   "source": []
  }
 ],
 "metadata": {
  "kernelspec": {
   "display_name": "venv",
   "language": "python",
   "name": "python3"
  },
  "language_info": {
   "codemirror_mode": {
    "name": "ipython",
    "version": 3
   },
   "file_extension": ".py",
   "mimetype": "text/x-python",
   "name": "python",
   "nbconvert_exporter": "python",
   "pygments_lexer": "ipython3",
   "version": "3.12.2"
  }
 },
 "nbformat": 4,
 "nbformat_minor": 5
}
